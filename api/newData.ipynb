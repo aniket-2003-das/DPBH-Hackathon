{
 "cells": [
  {
   "cell_type": "code",
   "execution_count": 3,
   "metadata": {},
   "outputs": [
    {
     "name": "stdout",
     "output_type": "stream",
     "text": [
      "Data extraction and CSV creation completed.\n"
     ]
    }
   ],
   "source": [
    "import pytesseract\n",
    "from PIL import Image\n",
    "import pandas as pd\n",
    "import openpyxl\n",
    "from io import BytesIO\n",
    "\n",
    "def extract_text_from_image(image_bytes):\n",
    "    \"\"\"\n",
    "    Extract text from an image using Tesseract OCR.\n",
    "    \"\"\"\n",
    "    img = Image.open(BytesIO(image_bytes))\n",
    "    text = pytesseract.image_to_string(img)\n",
    "    return text.strip()\n",
    "\n",
    "def process_reports_xlsx(xlsx_path):\n",
    "    \"\"\"\n",
    "    Process data from the 'reports.xlsx' file and extract required fields.\n",
    "    \"\"\"\n",
    "    data = []\n",
    "    wb = openpyxl.load_workbook(xlsx_path, data_only=True)\n",
    "    worksheet = wb.active\n",
    "    for row in worksheet.iter_rows(min_row=2, values_only=True):\n",
    "        image_description = row[0]\n",
    "        image_bytes = row[1].value\n",
    "        text = extract_text_from_image(image_bytes)\n",
    "        # Process the extracted text and generate the required fields\n",
    "        # Here, you can implement your logic to extract pattern string, category, type, website location, etc.\n",
    "        pattern_string = text  # Placeholder, replace with your logic\n",
    "        comment = \"Sample comment\"  # Placeholder, replace with your logic\n",
    "        pattern_category = \"Sample category\"  # Placeholder, replace with your logic\n",
    "        pattern_type = \"Sample type\"  # Placeholder, replace with your logic\n",
    "        where_in_website = \"Sample location\"  # Placeholder, replace with your logic\n",
    "        deceptive = \"Yes\" if \"deceptive\" in text.lower() else \"No\"  # Example: Check if the text contains 'deceptive'\n",
    "        website_page = \"Sample page\"  # Placeholder, replace with your logic\n",
    "        data.append((pattern_string, comment, pattern_category, pattern_type, where_in_website, deceptive, website_page))\n",
    "    return data\n",
    "\n",
    "def save_to_csv(data, csv_path):\n",
    "    \"\"\"\n",
    "    Save the extracted data to a CSV file.\n",
    "    \"\"\"\n",
    "    df = pd.DataFrame(data, columns=[\"Pattern String\", \"Comment\", \"Pattern Category\", \"Pattern Type\",\n",
    "                                     \"Where in website?\", \"Deceptive?\", \"Website Page\"])\n",
    "    df.to_csv(csv_path, index=False)\n",
    "\n",
    "if __name__ == \"__main__\":\n",
    "    reports_xlsx_path = \"reports.xlsx\"\n",
    "    csv_output_path = \"extracted_data.csv\"\n",
    "\n",
    "    # Process the 'reports.xlsx' file\n",
    "    extracted_data = process_reports_xlsx(reports_xlsx_path)\n",
    "\n",
    "    # Save the extracted data to a CSV file\n",
    "    save_to_csv(extracted_data, csv_output_path)\n",
    "\n",
    "    print(\"Data extraction and CSV creation completed.\")\n"
   ]
  },
  {
   "cell_type": "code",
   "execution_count": null,
   "metadata": {},
   "outputs": [],
   "source": []
  }
 ],
 "metadata": {
  "kernelspec": {
   "display_name": "Python 3",
   "language": "python",
   "name": "python3"
  },
  "language_info": {
   "codemirror_mode": {
    "name": "ipython",
    "version": 3
   },
   "file_extension": ".py",
   "mimetype": "text/x-python",
   "name": "python",
   "nbconvert_exporter": "python",
   "pygments_lexer": "ipython3",
   "version": "3.12.1"
  }
 },
 "nbformat": 4,
 "nbformat_minor": 2
}
