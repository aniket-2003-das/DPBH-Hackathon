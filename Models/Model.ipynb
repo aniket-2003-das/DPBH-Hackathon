{
 "cells": [
  {
   "cell_type": "code",
   "execution_count": 1,
   "metadata": {},
   "outputs": [
    {
     "name": "stderr",
     "output_type": "stream",
     "text": [
      "C:\\Users\\ravi8\\AppData\\Local\\Temp\\ipykernel_11448\\1515205690.py:1: DeprecationWarning: \n",
      "Pyarrow will become a required dependency of pandas in the next major release of pandas (pandas 3.0),\n",
      "(to allow more performant data types, such as the Arrow string type, and better interoperability with other libraries)\n",
      "but was not found to be installed on your system.\n",
      "If this would cause problems for you,\n",
      "please provide us feedback at https://github.com/pandas-dev/pandas/issues/54466\n",
      "        \n",
      "  import pandas as pd\n"
     ]
    }
   ],
   "source": [
    "import pandas as pd\n",
    "from sklearn.feature_extraction.text import TfidfVectorizer\n",
    "from sklearn.model_selection import train_test_split\n",
    "from sklearn.feature_extraction.text import CountVectorizer\n",
    "from sklearn.feature_extraction.text import TfidfTransformer\n",
    "from sklearn.naive_bayes import MultinomialNB\n",
    "from sklearn import metrics\n",
    "from joblib import dump\n",
    "from sklearn.naive_bayes import BernoulliNB"
   ]
  },
  {
   "cell_type": "code",
   "execution_count": 4,
   "metadata": {},
   "outputs": [
    {
     "name": "stdout",
     "output_type": "stream",
     "text": [
      "Accuracy: 0.9093484419263456\n"
     ]
    },
    {
     "data": {
      "text/plain": [
       "['category_vectorizer.joblib']"
      ]
     },
     "execution_count": 4,
     "metadata": {},
     "output_type": "execute_result"
    }
   ],
   "source": [
    "#determine ctogery\n",
    "selected_classification = \"Pattern Category\"\n",
    "\n",
    "df = pd.read_csv('darkpatterns_filled.csv')\n",
    "\n",
    "df = df[pd.notnull(df[\"Pattern String\"])]\n",
    "col = [\"Pattern String\", selected_classification]\n",
    "df = df[col]\n",
    "\n",
    "df[\"category_id\"] = df[selected_classification].factorize()[0]\n",
    "category_id_df = df[[selected_classification, 'category_id']\n",
    "                    ].drop_duplicates().sort_values('category_id')\n",
    "category_to_id = dict(category_id_df.values)\n",
    "id_to_category = dict(\n",
    "    category_id_df[['category_id', selected_classification]].values)\n",
    "\n",
    "tfidf = TfidfVectorizer(sublinear_tf=True, min_df=5, norm='l2',\n",
    "                        encoding='latin-1', ngram_range=(1, 2), stop_words='english')\n",
    "\n",
    "features = tfidf.fit_transform(df[\"Pattern String\"]).toarray()\n",
    "labels = df.category_id\n",
    "\n",
    "X_train, X_test, y_train, y_test = train_test_split(\n",
    "    df['Pattern String'], df[selected_classification], train_size=.3)\n",
    "count_vect = CountVectorizer()\n",
    "X_train_counts = count_vect.fit_transform(X_train)\n",
    "tfidf_transformer = TfidfTransformer()\n",
    "X_train_tfidf = tfidf_transformer.fit_transform(X_train_counts)\n",
    "\n",
    "clf = MultinomialNB().fit(X_train_tfidf, y_train)\n",
    "\n",
    "y_pred = clf.predict(count_vect.transform(X_test))\n",
    "\n",
    "print(\"Accuracy:\", metrics.accuracy_score(y_pred, y_test))\n",
    "\n",
    "dump(clf, 'category_classifier.joblib')\n",
    "dump(count_vect, 'category_vectorizer.joblib')"
   ]
  },
  {
   "cell_type": "code",
   "execution_count": 5,
   "metadata": {},
   "outputs": [
    {
     "name": "stdout",
     "output_type": "stream",
     "text": [
      "Accuracy:  0.9608610567514677\n"
     ]
    },
    {
     "data": {
      "text/plain": [
       "['presence_vectorizer.joblib']"
      ]
     },
     "execution_count": 5,
     "metadata": {},
     "output_type": "execute_result"
    }
   ],
   "source": [
    "#determine presence\n",
    "df1 = pd.read_csv('normie.csv')\n",
    "df2 = pd.read_csv('darkpatterns_filled.csv')\n",
    "\n",
    "df1 = df1[pd.notnull(df1[\"Pattern String\"])]\n",
    "df1 = df1[df1[\"classification\"] == 0]\n",
    "df1[\"classification\"] = \"Not Dark\"\n",
    "df1.drop_duplicates(subset=\"Pattern String\")\n",
    "\n",
    "df2 = df2[pd.notnull(df2[\"Pattern String\"])]\n",
    "df2[\"classification\"] = \"Dark\"\n",
    "col = [\"Pattern String\", \"classification\"]\n",
    "df2 = df2[col]\n",
    "\n",
    "df = pd.concat([df1, df2])\n",
    "\n",
    "X_train, X_test, y_train, y_test = train_test_split(\n",
    "    df['Pattern String'], df[\"classification\"], train_size = .25)\n",
    "count_vect = CountVectorizer()\n",
    "X_train_counts = count_vect.fit_transform(X_train)\n",
    "tfidf_transformer = TfidfTransformer()\n",
    "X_train_tfidf = tfidf_transformer.fit_transform(X_train_counts)\n",
    "\n",
    "clf = BernoulliNB().fit(X_train_tfidf, y_train)\n",
    "\n",
    "y_pred = clf.predict(count_vect.transform(X_test))\n",
    "\n",
    "print(\"Accuracy: \", metrics.accuracy_score(y_pred, y_test))\n",
    "\n",
    "\n",
    "\n",
    "dump(clf, 'presence_classifer.joblib')\n",
    "dump(count_vect, 'presence_vectorizer.joblib')"
   ]
  },
  {
   "cell_type": "code",
   "execution_count": null,
   "metadata": {},
   "outputs": [],
   "source": []
  }
 ],
 "metadata": {
  "kernelspec": {
   "display_name": "Python 3",
   "language": "python",
   "name": "python3"
  },
  "language_info": {
   "codemirror_mode": {
    "name": "ipython",
    "version": 3
   },
   "file_extension": ".py",
   "mimetype": "text/x-python",
   "name": "python",
   "nbconvert_exporter": "python",
   "pygments_lexer": "ipython3",
   "version": "3.12.1"
  }
 },
 "nbformat": 4,
 "nbformat_minor": 2
}
