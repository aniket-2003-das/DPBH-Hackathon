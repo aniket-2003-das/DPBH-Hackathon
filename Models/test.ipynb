{
 "cells": [
  {
   "cell_type": "code",
   "execution_count": 5,
   "metadata": {},
   "outputs": [
    {
     "name": "stdout",
     "output_type": "stream",
     "text": [
      "Scarcity         678\n",
      "Social Proof     314\n",
      "Misdirection     237\n",
      "Urgency          237\n",
      "Obstruction       30\n",
      "Sneaking          12\n",
      "Forced Action      4\n",
      "Name: Pattern Category, dtype: int64\n"
     ]
    }
   ],
   "source": [
    "import pandas as pd\n",
    "\n",
    "selected_classification = \"Pattern Category\"\n",
    "\n",
    "df = pd.read_csv('dark_patterns.csv')\n",
    "\n",
    "df = df[pd.notnull(df[\"Pattern String\"])]\n",
    "col = [\"Pattern String\", selected_classification]\n",
    "df = df[col]\n",
    "\n",
    "print(df[selected_classification].value_counts())"
   ]
  },
  {
   "cell_type": "code",
   "execution_count": 3,
   "metadata": {},
   "outputs": [
    {
     "name": "stdout",
     "output_type": "stream",
     "text": [
      "BernoulliNB() accuracy: 0.9686888454011742\n",
      "Confusion Matris: [[410  19]\n",
      " [ 13 580]]\n",
      "MultinomialNB() accuracy: 0.9334637964774951\n",
      "Confusion Matris: [[419  10]\n",
      " [ 58 535]]\n",
      "RandomForestClassifier() accuracy: 0.9452054794520548\n",
      "Confusion Matris: [[402  27]\n",
      " [ 29 564]]\n",
      "SVC() accuracy: 0.6956947162426614\n",
      "Confusion Matris: [[120 309]\n",
      " [  2 591]]\n",
      "DecisionTreeClassifier() accuracy: 0.9187866927592955\n",
      "Confusion Matris: [[375  54]\n",
      " [ 29 564]]\n",
      "SGDClassifier() accuracy: 0.9461839530332681\n",
      "Confusion Matris: [[420   9]\n",
      " [ 46 547]]\n",
      "LogisticRegression() accuracy: 0.9452054794520548\n",
      "Confusion Matris: [[416  13]\n",
      " [ 43 550]]\n"
     ]
    }
   ],
   "source": [
    "import pandas as pd\n",
    "from sklearn.model_selection import train_test_split\n",
    "from sklearn.feature_extraction.text import CountVectorizer\n",
    "from sklearn.feature_extraction.text import TfidfTransformer\n",
    "from sklearn import metrics\n",
    "from joblib import dump\n",
    "\n",
    "from sklearn.naive_bayes import BernoulliNB, MultinomialNB\n",
    "from sklearn.ensemble import RandomForestClassifier\n",
    "from sklearn import svm, tree\n",
    "from sklearn.linear_model import SGDClassifier, LogisticRegression\n",
    "\n",
    "\n",
    "df1 = pd.read_csv('normie.csv')\n",
    "df2 = pd.read_csv('dark_patterns.csv')\n",
    "\n",
    "df1 = df1[pd.notnull(df1[\"Pattern String\"])]\n",
    "df1 = df1[df1[\"classification\"] == 0]\n",
    "df1[\"classification\"] = \"Not Dark\"\n",
    "df1.drop_duplicates(subset=\"Pattern String\")\n",
    "\n",
    "df2 = df2[pd.notnull(df2[\"Pattern String\"])]\n",
    "df2[\"classification\"] = \"Dark\"\n",
    "col = [\"Pattern String\", \"classification\"]\n",
    "df2 = df2[col]\n",
    "\n",
    "df = pd.concat([df1, df2])\n",
    "\n",
    "X_train, X_test, y_train, y_test = train_test_split(\n",
    "    df['Pattern String'], df[\"classification\"], random_state=42, test_size=.3)\n",
    "count_vect = CountVectorizer()\n",
    "X_train_counts = count_vect.fit_transform(X_train)\n",
    "tfidf_transformer = TfidfTransformer()\n",
    "X_train_tfidf = tfidf_transformer.fit_transform(X_train_counts)\n",
    "\n",
    "# Model creation\n",
    "\n",
    "classifiers = []\n",
    "accs = []\n",
    "cms = []\n",
    "\n",
    "classifiers.append(BernoulliNB())\n",
    "classifiers.append(MultinomialNB())\n",
    "classifiers.append(RandomForestClassifier())\n",
    "classifiers.append(svm.SVC())\n",
    "classifiers.append(tree.DecisionTreeClassifier())\n",
    "classifiers.append(SGDClassifier())\n",
    "classifiers.append(LogisticRegression())\n",
    "\n",
    "for clf in classifiers:\n",
    "    clf.fit(X_train_tfidf, y_train)\n",
    "    y_pred = clf.predict(count_vect.transform(X_test))\n",
    "    accs.append(metrics.accuracy_score(y_test, y_pred))\n",
    "    cms.append(metrics.confusion_matrix(y_test, y_pred))\n",
    "\n",
    "for i in range(len(classifiers)):\n",
    "    print(f\"{classifiers[i]} accuracy: {accs[i]}\")\n",
    "    print(f\"Confusion Matris: {cms[i]}\")"
   ]
  },
  {
   "cell_type": "code",
   "execution_count": 4,
   "metadata": {},
   "outputs": [],
   "source": [
    "import pandas as pd\n",
    "\n",
    "# Load the dataset\n",
    "df = pd.read_csv('dark_patterns.csv')\n",
    "\n",
    "# Extract unique values of \"Pattern Category\"\n",
    "pattern_categories = df['Pattern Category'].unique()\n",
    "\n",
    "# Save unique pattern categories to another file\n",
    "with open('pattern_categories.txt', 'w') as f:\n",
    "    for category in pattern_categories:\n",
    "        f.write(category + '\\n')\n"
   ]
  },
  {
   "cell_type": "code",
   "execution_count": 2,
   "metadata": {},
   "outputs": [],
   "source": [
    "import pandas as pd\n",
    "import random\n",
    "\n",
    "# Load the dataset\n",
    "df = pd.read_csv('dark_patterns.csv')\n",
    "\n",
    "# Get unique existing categories\n",
    "existing_categories = df['Pattern Category'].dropna().unique()\n",
    "\n",
    "# Fill blank or undefined categories with a random value\n",
    "df['Pattern Category'] = df['Pattern Category'].apply(lambda x: random.choice(existing_categories) if pd.isna(x) else x)\n",
    "\n",
    "# Save the updated dataframe\n",
    "df.to_csv('darkpatterns_filled.csv', index=False)\n"
   ]
  },
  {
   "cell_type": "code",
   "execution_count": null,
   "metadata": {},
   "outputs": [],
   "source": []
  }
 ],
 "metadata": {
  "kernelspec": {
   "display_name": "Python 3",
   "language": "python",
   "name": "python3"
  },
  "language_info": {
   "codemirror_mode": {
    "name": "ipython",
    "version": 3
   },
   "file_extension": ".py",
   "mimetype": "text/x-python",
   "name": "python",
   "nbconvert_exporter": "python",
   "pygments_lexer": "ipython3",
   "version": "3.10.7"
  }
 },
 "nbformat": 4,
 "nbformat_minor": 2
}
